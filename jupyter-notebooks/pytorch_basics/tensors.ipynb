{
 "cells": [
  {
   "cell_type": "code",
   "execution_count": 1,
   "metadata": {
    "colab": {
     "base_uri": "https://localhost:8080/",
     "height": 35
    },
    "id": "u4LfrKIVVzBS",
    "outputId": "62a8ab00-5909-40e8-f3cb-835a7a9321e7"
   },
   "outputs": [
    {
     "data": {
      "text/plain": [
       "'2.1.0+cu121'"
      ]
     },
     "execution_count": 1,
     "metadata": {},
     "output_type": "execute_result"
    }
   ],
   "source": [
    "import torch\n",
    "import numpy as np\n",
    "import matplotlib.pyplot as plt\n",
    "import pandas as pd\n",
    "\n",
    "# Ignore warnings\n",
    "import warnings\n",
    "warnings.filterwarnings(\"ignore\")\n",
    "\n",
    "torch.__version__"
   ]
  },
  {
   "cell_type": "code",
   "execution_count": 2,
   "metadata": {
    "id": "h2Ra0MMSVzBi"
   },
   "outputs": [],
   "source": [
    "#helper function to summarize the properties of a tensor\n",
    "def describe(x):\n",
    "    print(\"Python Type (type(x)) :: {}\".format(type(x)))\n",
    "    print(\"Type (x.type()) :: {}\".format(x.type()))\n",
    "    print(\"Data Type (x.dtype) :: {}\".format(x.dtype))\n",
    "    # torch.Size is in fact a tuple, so it supports all tuple operations.\n",
    "    print(\"Shape/Size (x.size()) :: {}\".format(x.size()))\n",
    "    print(\"Shape/Size (x.shape) :: {}\".format(x.shape))\n",
    "    print(\"Number of elements (x.numel()) :: {}\".format(x.numel()))\n",
    "    # Dimension :: x.ndimension()\n",
    "    print(\"Dimension (x.dim()) :: {}\".format(x.dim()))\n",
    "    print(\"Data :: \\n{}\".format(x))\n",
    "    print('-----'*5)"
   ]
  },
  {
   "cell_type": "markdown",
   "metadata": {
    "id": "VvK3OmVAVzBu"
   },
   "source": [
    "# Tensors\n",
    "\n",
    "A Pytorch tensor is a data structure that is similar to numpy arrays. It refers to the generalization of vector and matrices to an arbitrary number of dimensions. The dimensionality of a tensor corresponds to the number of indexes used to refer to scalar value within the tensor.\n",
    "\n",
    "Compared to numpy arrays, Pytorch tensors can also be used on GPUs for very fast operation, distribute operations on multiple devices, and keep track of the graph of computations that created them."
   ]
  },
  {
   "cell_type": "markdown",
   "metadata": {
    "id": "TMirw6BiVzBv"
   },
   "source": [
    "## Scalar (0-d Tensor)"
   ]
  },
  {
   "cell_type": "code",
   "execution_count": 3,
   "metadata": {
    "colab": {
     "base_uri": "https://localhost:8080/",
     "height": 173
    },
    "id": "8NofePk5VzBx",
    "outputId": "6dbdea03-a325-4d96-f705-0778e6c1919f"
   },
   "outputs": [
    {
     "name": "stdout",
     "output_type": "stream",
     "text": [
      "Python Type (type(x)) :: <class 'torch.Tensor'>\n",
      "Type (x.type()) :: torch.LongTensor\n",
      "Data Type (x.dtype) :: torch.int64\n",
      "Shape/Size (x.size()) :: torch.Size([])\n",
      "Shape/Size (x.shape) :: torch.Size([])\n",
      "Number of elements (x.numel()) :: 1\n",
      "Dimension (x.dim()) :: 0\n",
      "Data :: \n",
      "2504\n",
      "-------------------------\n"
     ]
    }
   ],
   "source": [
    "#Scalar (o-d Tensor)\n",
    "s = torch.tensor(2504)\n",
    "describe(s)"
   ]
  },
  {
   "cell_type": "markdown",
   "metadata": {
    "id": "maswCZpOVzB7"
   },
   "source": [
    "## Vector (1-d Tensor)"
   ]
  },
  {
   "cell_type": "markdown",
   "metadata": {
    "id": "SyeEsHf-VzB8"
   },
   "source": [
    "### Constructing a Tensor directly using python list\n",
    "\n",
    "#### Using `Tensor` object"
   ]
  },
  {
   "cell_type": "code",
   "execution_count": 4,
   "metadata": {
    "colab": {
     "base_uri": "https://localhost:8080/",
     "height": 173
    },
    "id": "nPU-JWGrVzB-",
    "outputId": "dba853b1-b472-4fac-dcdd-af3bde647ead"
   },
   "outputs": [
    {
     "name": "stdout",
     "output_type": "stream",
     "text": [
      "Python Type (type(x)) :: <class 'torch.Tensor'>\n",
      "Type (x.type()) :: torch.FloatTensor\n",
      "Data Type (x.dtype) :: torch.float32\n",
      "Shape/Size (x.size()) :: torch.Size([2])\n",
      "Shape/Size (x.shape) :: torch.Size([2])\n",
      "Number of elements (x.numel()) :: 2\n",
      "Dimension (x.dim()) :: 1\n",
      "Data :: \n",
      "tensor([25.,  4.])\n",
      "-------------------------\n"
     ]
    }
   ],
   "source": [
    "m = torch.Tensor([25, 4])\n",
    "describe(m)"
   ]
  },
  {
   "cell_type": "markdown",
   "metadata": {
    "id": "ACNRMR_eXG8S"
   },
   "source": [
    "**NOTE:** Tensor object will always create `FloatTensor`."
   ]
  },
  {
   "cell_type": "markdown",
   "metadata": {
    "id": "k1G7nVSBVzCG"
   },
   "source": [
    "#### Changing Data type of tensor using `tensor.type()`"
   ]
  },
  {
   "cell_type": "code",
   "execution_count": 5,
   "metadata": {
    "colab": {
     "base_uri": "https://localhost:8080/",
     "height": 191
    },
    "id": "pai2t9ATVzCH",
    "outputId": "b14738bb-c18e-4b35-9a1d-6b50ef897023"
   },
   "outputs": [
    {
     "name": "stdout",
     "output_type": "stream",
     "text": [
      "Original type of tensor m :  torch.FloatTensor\n",
      "\n",
      "Changed type of tensor m :  torch.LongTensor\n"
     ]
    }
   ],
   "source": [
    "print(\"Original type of tensor m : \", m.type())\n",
    "print(\"\")\n",
    "m = m.type(torch.LongTensor)\n",
    "print(\"Changed type of tensor m : \", m.type())"
   ]
  },
  {
   "cell_type": "markdown",
   "metadata": {
    "id": "yczeShTdVzCQ"
   },
   "source": [
    "#### Using `tensor()` method"
   ]
  },
  {
   "cell_type": "code",
   "execution_count": 6,
   "metadata": {
    "colab": {
     "base_uri": "https://localhost:8080/",
     "height": 173
    },
    "id": "g_5y89UUVzCS",
    "outputId": "01aafcc2-70ed-4f41-c059-d151e2c70683"
   },
   "outputs": [
    {
     "name": "stdout",
     "output_type": "stream",
     "text": [
      "Python Type (type(x)) :: <class 'torch.Tensor'>\n",
      "Type (x.type()) :: torch.LongTensor\n",
      "Data Type (x.dtype) :: torch.int64\n",
      "Shape/Size (x.size()) :: torch.Size([2])\n",
      "Shape/Size (x.shape) :: torch.Size([2])\n",
      "Number of elements (x.numel()) :: 2\n",
      "Dimension (x.dim()) :: 1\n",
      "Data :: \n",
      "tensor([25,  4])\n",
      "-------------------------\n"
     ]
    }
   ],
   "source": [
    "m = torch.tensor([25, 4])\n",
    "describe(m)"
   ]
  },
  {
   "cell_type": "markdown",
   "metadata": {
    "id": "rFTFI7PDVzCZ"
   },
   "source": [
    "`torch.tensor()` infer the type of the data automatically, <br>\n",
    "`torch.Tensor()` is an alias of `torch.FloatTensor()` <br>\n",
    "**prefer `torch.tensor()`**, Using torch.tensor(), can specify data types. If no dtype is assigned, it will infer from the data."
   ]
  },
  {
   "cell_type": "markdown",
   "metadata": {
    "id": "IJtUnB_8VzCa"
   },
   "source": [
    "#### Integer and Float lists to Tensor"
   ]
  },
  {
   "cell_type": "code",
   "execution_count": 7,
   "metadata": {
    "id": "jIOBNgB9VzCb"
   },
   "outputs": [],
   "source": [
    "int_list = [1,2,3,4,5]\n",
    "float_list = [1.0,2.0,3.0,4.0,5.0]"
   ]
  },
  {
   "cell_type": "code",
   "execution_count": 8,
   "metadata": {
    "colab": {
     "base_uri": "https://localhost:8080/",
     "height": 173
    },
    "id": "NkHFDtZtYW4O",
    "outputId": "ca3239fa-b9e6-4e28-b600-d091bfbf4578"
   },
   "outputs": [
    {
     "name": "stdout",
     "output_type": "stream",
     "text": [
      "Python Type (type(x)) :: <class 'torch.Tensor'>\n",
      "Type (x.type()) :: torch.LongTensor\n",
      "Data Type (x.dtype) :: torch.int64\n",
      "Shape/Size (x.size()) :: torch.Size([5])\n",
      "Shape/Size (x.shape) :: torch.Size([5])\n",
      "Number of elements (x.numel()) :: 5\n",
      "Dimension (x.dim()) :: 1\n",
      "Data :: \n",
      "tensor([1, 2, 3, 4, 5])\n",
      "-------------------------\n"
     ]
    }
   ],
   "source": [
    "int_tensor = torch.tensor(int_list)\n",
    "describe(int_tensor)"
   ]
  },
  {
   "cell_type": "code",
   "execution_count": 9,
   "metadata": {
    "colab": {
     "base_uri": "https://localhost:8080/",
     "height": 173
    },
    "id": "1Q1JFivgYfes",
    "outputId": "b1c3dc3f-580d-4e4d-8b60-e552d5160700"
   },
   "outputs": [
    {
     "name": "stdout",
     "output_type": "stream",
     "text": [
      "Python Type (type(x)) :: <class 'torch.Tensor'>\n",
      "Type (x.type()) :: torch.LongTensor\n",
      "Data Type (x.dtype) :: torch.int64\n",
      "Shape/Size (x.size()) :: torch.Size([5])\n",
      "Shape/Size (x.shape) :: torch.Size([5])\n",
      "Number of elements (x.numel()) :: 5\n",
      "Dimension (x.dim()) :: 1\n",
      "Data :: \n",
      "tensor([1, 2, 3, 4, 5])\n",
      "-------------------------\n"
     ]
    }
   ],
   "source": [
    "float_int_tensor = torch.tensor(float_list, dtype=torch.int64)\n",
    "describe(float_int_tensor)"
   ]
  },
  {
   "cell_type": "code",
   "execution_count": 10,
   "metadata": {
    "colab": {
     "base_uri": "https://localhost:8080/",
     "height": 173
    },
    "id": "V-GT5iU4YrXP",
    "outputId": "b442922b-e26d-447a-e01e-8cc3199aa4ba"
   },
   "outputs": [
    {
     "name": "stdout",
     "output_type": "stream",
     "text": [
      "Python Type (type(x)) :: <class 'torch.Tensor'>\n",
      "Type (x.type()) :: torch.FloatTensor\n",
      "Data Type (x.dtype) :: torch.float32\n",
      "Shape/Size (x.size()) :: torch.Size([5])\n",
      "Shape/Size (x.shape) :: torch.Size([5])\n",
      "Number of elements (x.numel()) :: 5\n",
      "Dimension (x.dim()) :: 1\n",
      "Data :: \n",
      "tensor([1., 2., 3., 4., 5.])\n",
      "-------------------------\n"
     ]
    }
   ],
   "source": [
    "int_float_tensor = torch.FloatTensor(int_list)\n",
    "describe(int_float_tensor)"
   ]
  },
  {
   "cell_type": "markdown",
   "metadata": {},
   "source": [
    "#### `dtype` conversion"
   ]
  },
  {
   "cell_type": "code",
   "execution_count": 11,
   "metadata": {},
   "outputs": [
    {
     "data": {
      "text/plain": [
       "(tensor([1, 2, 3, 4, 5]), torch.int64)"
      ]
     },
     "execution_count": 11,
     "metadata": {},
     "output_type": "execute_result"
    }
   ],
   "source": [
    "int_tensor, int_tensor.dtype"
   ]
  },
  {
   "cell_type": "code",
   "execution_count": 12,
   "metadata": {},
   "outputs": [
    {
     "data": {
      "text/plain": [
       "tensor([1., 2., 3., 4., 5.], dtype=torch.float64)"
      ]
     },
     "execution_count": 12,
     "metadata": {},
     "output_type": "execute_result"
    }
   ],
   "source": [
    "int_tensor.double()"
   ]
  },
  {
   "cell_type": "code",
   "execution_count": 13,
   "metadata": {},
   "outputs": [
    {
     "data": {
      "text/plain": [
       "tensor([1, 2, 3, 4, 5], dtype=torch.int16)"
      ]
     },
     "execution_count": 13,
     "metadata": {},
     "output_type": "execute_result"
    }
   ],
   "source": [
    "int_tensor.to(torch.short)"
   ]
  },
  {
   "cell_type": "markdown",
   "metadata": {
    "id": "dq18HViuVzCi"
   },
   "source": [
    "#### Tensor to list\n",
    "\n",
    "`to_list()`"
   ]
  },
  {
   "cell_type": "code",
   "execution_count": 14,
   "metadata": {
    "colab": {
     "base_uri": "https://localhost:8080/",
     "height": 34
    },
    "id": "sNXyJO5JVzCj",
    "outputId": "cf7413bc-ac2f-41e8-be38-2bddccef8031"
   },
   "outputs": [
    {
     "data": {
      "text/plain": [
       "[1, 2, 3, 4, 5]"
      ]
     },
     "execution_count": 14,
     "metadata": {},
     "output_type": "execute_result"
    }
   ],
   "source": [
    "int_tensor.tolist()"
   ]
  },
  {
   "cell_type": "markdown",
   "metadata": {
    "id": "QtqtjFpAVzCq"
   },
   "source": [
    "### Matrix (2-d)"
   ]
  },
  {
   "cell_type": "code",
   "execution_count": 15,
   "metadata": {
    "colab": {
     "base_uri": "https://localhost:8080/",
     "height": 243
    },
    "id": "qyl-F7OKVzCs",
    "outputId": "980ee145-c0c2-4ba2-ca05-52b1a41a1acc"
   },
   "outputs": [
    {
     "name": "stdout",
     "output_type": "stream",
     "text": [
      "Python Type (type(x)) :: <class 'torch.Tensor'>\n",
      "Type (x.type()) :: torch.FloatTensor\n",
      "Data Type (x.dtype) :: torch.float32\n",
      "Shape/Size (x.size()) :: torch.Size([5, 4])\n",
      "Shape/Size (x.shape) :: torch.Size([5, 4])\n",
      "Number of elements (x.numel()) :: 20\n",
      "Dimension (x.dim()) :: 2\n",
      "Data :: \n",
      "tensor([[ 0.0000e+00,  0.0000e+00,  0.0000e+00,  0.0000e+00],\n",
      "        [ 1.0816e+32,  3.0935e-41,  4.8283e+30,  3.0935e-41],\n",
      "        [-2.1057e+13,  4.5736e-41,  1.4013e-45,  0.0000e+00],\n",
      "        [ 7.0065e-45,  0.0000e+00,  0.0000e+00,  0.0000e+00],\n",
      "        [ 0.0000e+00,  0.0000e+00,  0.0000e+00,  0.0000e+00]])\n",
      "-------------------------\n"
     ]
    }
   ],
   "source": [
    "#Constructing a Tensor directly \n",
    "#Creates an unitilised matrix of size 5x4\n",
    "c = torch.Tensor(5,4)\n",
    "describe(c)"
   ]
  },
  {
   "cell_type": "markdown",
   "metadata": {
    "id": "AKtNNRlXVzCz"
   },
   "source": [
    "### Initialising with a numpy array"
   ]
  },
  {
   "cell_type": "code",
   "execution_count": 16,
   "metadata": {
    "colab": {
     "base_uri": "https://localhost:8080/",
     "height": 173
    },
    "id": "p3rdRYOfVzCz",
    "outputId": "0eed0b66-6e9d-4935-e316-d76c442867a8"
   },
   "outputs": [
    {
     "name": "stdout",
     "output_type": "stream",
     "text": [
      "Python Type (type(x)) :: <class 'torch.Tensor'>\n",
      "Type (x.type()) :: torch.IntTensor\n",
      "Data Type (x.dtype) :: torch.int32\n",
      "Shape/Size (x.size()) :: torch.Size([2])\n",
      "Shape/Size (x.shape) :: torch.Size([2])\n",
      "Number of elements (x.numel()) :: 2\n",
      "Dimension (x.dim()) :: 1\n",
      "Data :: \n",
      "tensor([25,  4], dtype=torch.int32)\n",
      "-------------------------\n"
     ]
    }
   ],
   "source": [
    "#Initialized with numpy array\n",
    "n = torch.tensor(np.array([25, 4], dtype=np.int32))\n",
    "describe(n)"
   ]
  },
  {
   "cell_type": "markdown",
   "metadata": {
    "id": "OuX9txMJVzC8"
   },
   "source": [
    "### Creating tensor from numpy array\n",
    "\n",
    "`.from_numpy()`"
   ]
  },
  {
   "cell_type": "code",
   "execution_count": 17,
   "metadata": {
    "colab": {
     "base_uri": "https://localhost:8080/",
     "height": 243
    },
    "id": "es2ahvraVzC-",
    "outputId": "a2199c41-2a55-4df5-d3e9-a87aca437acc"
   },
   "outputs": [
    {
     "name": "stdout",
     "output_type": "stream",
     "text": [
      "[0.35709942 0.34874282 0.94317742 0.75136683 0.84532327 0.15697973\n",
      " 0.92179996 0.86497887 0.2092     0.99372091]\n",
      "<class 'numpy.ndarray'>\n",
      "\n",
      "Python Type (type(x)) :: <class 'torch.Tensor'>\n",
      "Type (x.type()) :: torch.DoubleTensor\n",
      "Data Type (x.dtype) :: torch.float64\n",
      "Shape/Size (x.size()) :: torch.Size([10])\n",
      "Shape/Size (x.shape) :: torch.Size([10])\n",
      "Number of elements (x.numel()) :: 10\n",
      "Dimension (x.dim()) :: 1\n",
      "Data :: \n",
      "tensor([0.3571, 0.3487, 0.9432, 0.7514, 0.8453, 0.1570, 0.9218, 0.8650, 0.2092,\n",
      "        0.9937], dtype=torch.float64)\n",
      "-------------------------\n"
     ]
    }
   ],
   "source": [
    "a = np.random.rand(10)\n",
    "print(a)\n",
    "print(type(a))\n",
    "print(\"\")\n",
    "tensor_a = torch.from_numpy(a)\n",
    "describe(tensor_a)"
   ]
  },
  {
   "cell_type": "markdown",
   "metadata": {
    "id": "Z_u_OA-jVzDF"
   },
   "source": [
    "### To numpy array\n",
    "\n",
    "`.numpy()`"
   ]
  },
  {
   "cell_type": "code",
   "execution_count": 18,
   "metadata": {
    "colab": {
     "base_uri": "https://localhost:8080/",
     "height": 69
    },
    "id": "U7Fh5md7VzDG",
    "outputId": "52cdb851-3042-4757-dbc8-39a034555687"
   },
   "outputs": [
    {
     "data": {
      "text/plain": [
       "(array([0.35709942, 0.34874282, 0.94317742, 0.75136683, 0.84532327,\n",
       "        0.15697973, 0.92179996, 0.86497887, 0.2092    , 0.99372091]),\n",
       " dtype('float64'))"
      ]
     },
     "execution_count": 18,
     "metadata": {},
     "output_type": "execute_result"
    }
   ],
   "source": [
    "back_to_numpy_a = tensor_a.numpy()\n",
    "back_to_numpy_a, back_to_numpy_a.dtype"
   ]
  },
  {
   "cell_type": "markdown",
   "metadata": {
    "id": "nwxCpCc9VzDN"
   },
   "source": [
    "### From Pandas Series & Dataframe"
   ]
  },
  {
   "cell_type": "markdown",
   "metadata": {},
   "source": [
    "#### Series --> nd-array --> tensor"
   ]
  },
  {
   "cell_type": "code",
   "execution_count": 19,
   "metadata": {
    "colab": {
     "base_uri": "https://localhost:8080/",
     "height": 295
    },
    "id": "oEEpll_0VzDO",
    "outputId": "0ac862bf-0b00-471b-b809-784d934ce203"
   },
   "outputs": [
    {
     "name": "stdout",
     "output_type": "stream",
     "text": [
      "0    1\n",
      "1    3\n",
      "2    5\n",
      "3    7\n",
      "4    9\n",
      "dtype: int64\n",
      "<class 'pandas.core.series.Series'>\n",
      "\n",
      "Python Type (type(x)) :: <class 'torch.Tensor'>\n",
      "Type (x.type()) :: torch.LongTensor\n",
      "Data Type (x.dtype) :: torch.int64\n",
      "Shape/Size (x.size()) :: torch.Size([5])\n",
      "Shape/Size (x.shape) :: torch.Size([5])\n",
      "Number of elements (x.numel()) :: 5\n",
      "Dimension (x.dim()) :: 1\n",
      "Data :: \n",
      "tensor([1, 3, 5, 7, 9])\n",
      "-------------------------\n"
     ]
    }
   ],
   "source": [
    "pd_series = pd.Series(np.arange(1,11,2))\n",
    "print(pd_series)\n",
    "print(type(pd_series))\n",
    "print(\"\")\n",
    "tensor_from_series = torch.from_numpy(pd_series.values)\n",
    "describe(tensor_from_series)"
   ]
  },
  {
   "cell_type": "markdown",
   "metadata": {},
   "source": [
    "#### Dataframe --> nd array --> tensor"
   ]
  },
  {
   "cell_type": "code",
   "execution_count": 20,
   "metadata": {
    "colab": {
     "base_uri": "https://localhost:8080/",
     "height": 295
    },
    "id": "YsVuJhZWVzDV",
    "outputId": "3bc5c685-9fa7-4fb2-a326-0982ec04f265"
   },
   "outputs": [
    {
     "name": "stdout",
     "output_type": "stream",
     "text": [
      "    a   b   c\n",
      "0  11  12  13\n",
      "1  21  22  23\n",
      "2  31  32  33\n",
      "<class 'pandas.core.frame.DataFrame'>\n",
      "\n",
      "Python Type (type(x)) :: <class 'torch.Tensor'>\n",
      "Type (x.type()) :: torch.LongTensor\n",
      "Data Type (x.dtype) :: torch.int64\n",
      "Shape/Size (x.size()) :: torch.Size([3, 3])\n",
      "Shape/Size (x.shape) :: torch.Size([3, 3])\n",
      "Number of elements (x.numel()) :: 9\n",
      "Dimension (x.dim()) :: 2\n",
      "Data :: \n",
      "tensor([[11, 12, 13],\n",
      "        [21, 22, 23],\n",
      "        [31, 32, 33]])\n",
      "-------------------------\n"
     ]
    }
   ],
   "source": [
    "df = pd.DataFrame({'a':[11,21,31],'b':[12,22,32], 'c':[13,23,33]})\n",
    "print(df)\n",
    "print(type(df))\n",
    "print(\"\")\n",
    "\n",
    "tensor_fron_dataframe = torch.from_numpy(df.values)\n",
    "describe(tensor_fron_dataframe)"
   ]
  },
  {
   "cell_type": "markdown",
   "metadata": {
    "id": "n30XOwUPVzDb"
   },
   "source": [
    "### Different Tensor Creation"
   ]
  },
  {
   "cell_type": "markdown",
   "metadata": {
    "id": "ERMMuB1HVzDc"
   },
   "source": [
    "#### Empty\n",
    "\n",
    "Creates an unitialised tensor"
   ]
  },
  {
   "cell_type": "code",
   "execution_count": 21,
   "metadata": {
    "colab": {
     "base_uri": "https://localhost:8080/",
     "height": 191
    },
    "id": "E-Az7jWfVzDe",
    "outputId": "d1651712-3de4-4c02-b78b-f520e86cfd66"
   },
   "outputs": [
    {
     "name": "stdout",
     "output_type": "stream",
     "text": [
      "Python Type (type(x)) :: <class 'torch.Tensor'>\n",
      "Type (x.type()) :: torch.FloatTensor\n",
      "Data Type (x.dtype) :: torch.float32\n",
      "Shape/Size (x.size()) :: torch.Size([10])\n",
      "Shape/Size (x.shape) :: torch.Size([10])\n",
      "Number of elements (x.numel()) :: 10\n",
      "Dimension (x.dim()) :: 1\n",
      "Data :: \n",
      "tensor([-1.3379e-07,  4.5737e-41,  8.8945e+31,  3.0935e-41,  8.9367e+31,\n",
      "         3.0935e-41,  1.1210e-44,  0.0000e+00,  1.5112e+23,  1.0871e-05])\n",
      "-------------------------\n"
     ]
    }
   ],
   "source": [
    "empt = torch.empty(10)\n",
    "describe(empt)"
   ]
  },
  {
   "cell_type": "markdown",
   "metadata": {
    "id": "HyZGDR_GVzDk"
   },
   "source": [
    "#### Zeros\n",
    "\n",
    "Creates a tensor initialised with zeros"
   ]
  },
  {
   "cell_type": "code",
   "execution_count": 22,
   "metadata": {
    "colab": {
     "base_uri": "https://localhost:8080/",
     "height": 278
    },
    "id": "D2j300Y6VzDl",
    "outputId": "a1fd7422-ca70-40a6-8653-ea17c9ccd994"
   },
   "outputs": [
    {
     "name": "stdout",
     "output_type": "stream",
     "text": [
      "Python Type (type(x)) :: <class 'torch.Tensor'>\n",
      "Type (x.type()) :: torch.FloatTensor\n",
      "Data Type (x.dtype) :: torch.float32\n",
      "Shape/Size (x.size()) :: torch.Size([2, 3, 4])\n",
      "Shape/Size (x.shape) :: torch.Size([2, 3, 4])\n",
      "Number of elements (x.numel()) :: 24\n",
      "Dimension (x.dim()) :: 3\n",
      "Data :: \n",
      "tensor([[[0., 0., 0., 0.],\n",
      "         [0., 0., 0., 0.],\n",
      "         [0., 0., 0., 0.]],\n",
      "\n",
      "        [[0., 0., 0., 0.],\n",
      "         [0., 0., 0., 0.],\n",
      "         [0., 0., 0., 0.]]])\n",
      "-------------------------\n"
     ]
    }
   ],
   "source": [
    "z = torch.zeros(2,3,4)\n",
    "describe(z)"
   ]
  },
  {
   "cell_type": "markdown",
   "metadata": {
    "id": "2DnhbYszVzDp"
   },
   "source": [
    "#### Ones\n",
    "\n",
    "Creates a tensor initialised with ones"
   ]
  },
  {
   "cell_type": "code",
   "execution_count": 23,
   "metadata": {
    "colab": {
     "base_uri": "https://localhost:8080/",
     "height": 278
    },
    "id": "xsgiEr3oVzDq",
    "outputId": "f0561a1e-66dc-439e-93ab-8eaa88b468fb"
   },
   "outputs": [
    {
     "name": "stdout",
     "output_type": "stream",
     "text": [
      "Python Type (type(x)) :: <class 'torch.Tensor'>\n",
      "Type (x.type()) :: torch.FloatTensor\n",
      "Data Type (x.dtype) :: torch.float32\n",
      "Shape/Size (x.size()) :: torch.Size([2, 3, 4])\n",
      "Shape/Size (x.shape) :: torch.Size([2, 3, 4])\n",
      "Number of elements (x.numel()) :: 24\n",
      "Dimension (x.dim()) :: 3\n",
      "Data :: \n",
      "tensor([[[1., 1., 1., 1.],\n",
      "         [1., 1., 1., 1.],\n",
      "         [1., 1., 1., 1.]],\n",
      "\n",
      "        [[1., 1., 1., 1.],\n",
      "         [1., 1., 1., 1.],\n",
      "         [1., 1., 1., 1.]]])\n",
      "-------------------------\n"
     ]
    }
   ],
   "source": [
    "#torch.ones()\n",
    "#_like :: Creating a tensor using the existing Tensor; \n",
    "#         These methods will reuse properties of the input tensor, e.g. dtype, unless new values are provided\n",
    "o = torch.ones_like(z)\n",
    "describe(o)"
   ]
  },
  {
   "cell_type": "markdown",
   "metadata": {
    "id": "pxDmSh4wVzDw"
   },
   "source": [
    "#### Filled with a value\n",
    "\n",
    "Creates a tensor filled with the same value"
   ]
  },
  {
   "cell_type": "code",
   "execution_count": 24,
   "metadata": {
    "colab": {
     "base_uri": "https://localhost:8080/",
     "height": 278
    },
    "id": "NMKq3Z73VzDx",
    "outputId": "d8340675-138e-4a6e-ea07-485d3a4e3fdb"
   },
   "outputs": [
    {
     "name": "stdout",
     "output_type": "stream",
     "text": [
      "Python Type (type(x)) :: <class 'torch.Tensor'>\n",
      "Type (x.type()) :: torch.FloatTensor\n",
      "Data Type (x.dtype) :: torch.float32\n",
      "Shape/Size (x.size()) :: torch.Size([2, 3, 4])\n",
      "Shape/Size (x.shape) :: torch.Size([2, 3, 4])\n",
      "Number of elements (x.numel()) :: 24\n",
      "Dimension (x.dim()) :: 3\n",
      "Data :: \n",
      "tensor([[[25., 25., 25., 25.],\n",
      "         [25., 25., 25., 25.],\n",
      "         [25., 25., 25., 25.]],\n",
      "\n",
      "        [[25., 25., 25., 25.],\n",
      "         [25., 25., 25., 25.],\n",
      "         [25., 25., 25., 25.]]])\n",
      "-------------------------\n"
     ]
    }
   ],
   "source": [
    "#torch.fill(shape, val)\n",
    "z.fill_(25) #_ ===> in-place operation\n",
    "describe(z)"
   ]
  },
  {
   "cell_type": "markdown",
   "metadata": {
    "id": "5p306-wWVzD1"
   },
   "source": [
    "#### Diagonal Matrix"
   ]
  },
  {
   "cell_type": "code",
   "execution_count": 25,
   "metadata": {
    "colab": {
     "base_uri": "https://localhost:8080/",
     "height": 225
    },
    "id": "wUxpCs0CVzD2",
    "outputId": "59d0b909-b643-441e-b29c-d54e24c79b52"
   },
   "outputs": [
    {
     "name": "stdout",
     "output_type": "stream",
     "text": [
      "Python Type (type(x)) :: <class 'torch.Tensor'>\n",
      "Type (x.type()) :: torch.LongTensor\n",
      "Data Type (x.dtype) :: torch.int64\n",
      "Shape/Size (x.size()) :: torch.Size([4, 4])\n",
      "Shape/Size (x.shape) :: torch.Size([4, 4])\n",
      "Number of elements (x.numel()) :: 16\n",
      "Dimension (x.dim()) :: 2\n",
      "Data :: \n",
      "tensor([[1, 0, 0, 0],\n",
      "        [0, 2, 0, 0],\n",
      "        [0, 0, 3, 0],\n",
      "        [0, 0, 0, 4]])\n",
      "-------------------------\n"
     ]
    }
   ],
   "source": [
    "#Creating a diagonal matrix tensor using the input data\n",
    "#input data must be a torch tensor\n",
    "d = torch.diag(torch.tensor([1,2,3,4]))\n",
    "describe(d)"
   ]
  },
  {
   "cell_type": "markdown",
   "metadata": {
    "id": "aPX3rED-VzD6"
   },
   "source": [
    "#### Identity Matrix"
   ]
  },
  {
   "cell_type": "code",
   "execution_count": 26,
   "metadata": {
    "colab": {
     "base_uri": "https://localhost:8080/",
     "height": 243
    },
    "id": "jaRkgTrfVzD-",
    "outputId": "c9f4c8ac-e8be-42b1-dedd-98830641ca64"
   },
   "outputs": [
    {
     "name": "stdout",
     "output_type": "stream",
     "text": [
      "Python Type (type(x)) :: <class 'torch.Tensor'>\n",
      "Type (x.type()) :: torch.LongTensor\n",
      "Data Type (x.dtype) :: torch.int64\n",
      "Shape/Size (x.size()) :: torch.Size([5, 5])\n",
      "Shape/Size (x.shape) :: torch.Size([5, 5])\n",
      "Number of elements (x.numel()) :: 25\n",
      "Dimension (x.dim()) :: 2\n",
      "Data :: \n",
      "tensor([[1, 0, 0, 0, 0],\n",
      "        [0, 1, 0, 0, 0],\n",
      "        [0, 0, 1, 0, 0],\n",
      "        [0, 0, 0, 1, 0],\n",
      "        [0, 0, 0, 0, 1]])\n",
      "-------------------------\n"
     ]
    }
   ],
   "source": [
    "#Creating an identity matrix\n",
    "#default dtype is float\n",
    "i = torch.eye(5,5, dtype=torch.int64)\n",
    "describe(i)"
   ]
  },
  {
   "cell_type": "markdown",
   "metadata": {
    "id": "DU3_GbF8VzED"
   },
   "source": [
    "#### Initialised with random values"
   ]
  },
  {
   "cell_type": "code",
   "execution_count": 27,
   "metadata": {
    "colab": {
     "base_uri": "https://localhost:8080/",
     "height": 191
    },
    "id": "3KikOsIGVzEF",
    "outputId": "0005a1f1-b78d-4b38-88a1-ea2846701a86"
   },
   "outputs": [
    {
     "name": "stdout",
     "output_type": "stream",
     "text": [
      "Python Type (type(x)) :: <class 'torch.Tensor'>\n",
      "Type (x.type()) :: torch.FloatTensor\n",
      "Data Type (x.dtype) :: torch.float32\n",
      "Shape/Size (x.size()) :: torch.Size([2, 5])\n",
      "Shape/Size (x.shape) :: torch.Size([2, 5])\n",
      "Number of elements (x.numel()) :: 10\n",
      "Dimension (x.dim()) :: 2\n",
      "Data :: \n",
      "tensor([[0.9555, 0.5215, 0.2370, 0.4344, 0.8030],\n",
      "        [0.0571, 0.0521, 0.1377, 0.3538, 0.8401]])\n",
      "-------------------------\n"
     ]
    }
   ],
   "source": [
    "#Creates a tensor insitialised with 10 uniform random values\n",
    "x = torch.rand(2,5)\n",
    "describe(x)"
   ]
  },
  {
   "cell_type": "code",
   "execution_count": 28,
   "metadata": {
    "colab": {
     "base_uri": "https://localhost:8080/",
     "height": 191
    },
    "id": "QPO7paK_VzEI",
    "outputId": "a1958ad5-7a20-4c3a-fc19-97a469cef2e2"
   },
   "outputs": [
    {
     "name": "stdout",
     "output_type": "stream",
     "text": [
      "Python Type (type(x)) :: <class 'torch.Tensor'>\n",
      "Type (x.type()) :: torch.FloatTensor\n",
      "Data Type (x.dtype) :: torch.float32\n",
      "Shape/Size (x.size()) :: torch.Size([2, 5])\n",
      "Shape/Size (x.shape) :: torch.Size([2, 5])\n",
      "Number of elements (x.numel()) :: 10\n",
      "Dimension (x.dim()) :: 2\n",
      "Data :: \n",
      "tensor([[ 0.0370,  0.6863,  0.6296, -0.3906, -0.1329],\n",
      "        [-0.0994,  1.2096,  0.1256,  1.6446,  0.3051]])\n",
      "-------------------------\n"
     ]
    }
   ],
   "source": [
    "#Creating a normal distribution tensor of shape x\n",
    "#x_normal = torch.randn(shape)\n",
    "x_normal = torch.randn_like(x)\n",
    "describe(x_normal)"
   ]
  },
  {
   "cell_type": "code",
   "execution_count": 29,
   "metadata": {
    "colab": {
     "base_uri": "https://localhost:8080/",
     "height": 243
    },
    "id": "rEj7acKaVzEO",
    "outputId": "63fee68a-8f4a-4a8d-a05f-039700fd2727"
   },
   "outputs": [
    {
     "name": "stdout",
     "output_type": "stream",
     "text": [
      "Python Type (type(x)) :: <class 'torch.Tensor'>\n",
      "Type (x.type()) :: torch.LongTensor\n",
      "Data Type (x.dtype) :: torch.int64\n",
      "Shape/Size (x.size()) :: torch.Size([5, 4])\n",
      "Shape/Size (x.shape) :: torch.Size([5, 4])\n",
      "Number of elements (x.numel()) :: 20\n",
      "Dimension (x.dim()) :: 2\n",
      "Data :: \n",
      "tensor([[82, 86, 22, 45],\n",
      "        [39, 23, 39, 69],\n",
      "        [34, 32, 52, 41],\n",
      "        [49, 25,  4, 69],\n",
      "        [68, 98, 31, 61]])\n",
      "-------------------------\n"
     ]
    }
   ],
   "source": [
    "# randint(start, end, size(must be a tuple))\n",
    "rand_ints = torch.randint(0, 100, (5, 4))\n",
    "describe(rand_ints)"
   ]
  },
  {
   "cell_type": "markdown",
   "metadata": {
    "id": "Yq6gIduqVzER"
   },
   "source": [
    "#### Using Sequences"
   ]
  },
  {
   "cell_type": "code",
   "execution_count": 30,
   "metadata": {
    "colab": {
     "base_uri": "https://localhost:8080/",
     "height": 382
    },
    "id": "WN9QygXGVzES",
    "outputId": "3cf27c26-18f1-4e15-8cca-3b6bcfee1d7d"
   },
   "outputs": [
    {
     "name": "stdout",
     "output_type": "stream",
     "text": [
      "Python Type (type(x)) :: <class 'torch.Tensor'>\n",
      "Type (x.type()) :: torch.FloatTensor\n",
      "Data Type (x.dtype) :: torch.float32\n",
      "Shape/Size (x.size()) :: torch.Size([100])\n",
      "Shape/Size (x.shape) :: torch.Size([100])\n",
      "Number of elements (x.numel()) :: 100\n",
      "Dimension (x.dim()) :: 1\n",
      "Data :: \n",
      "tensor([20.0000, 20.1010, 20.2020, 20.3030, 20.4040, 20.5051, 20.6061, 20.7071,\n",
      "        20.8081, 20.9091, 21.0101, 21.1111, 21.2121, 21.3131, 21.4141, 21.5152,\n",
      "        21.6162, 21.7172, 21.8182, 21.9192, 22.0202, 22.1212, 22.2222, 22.3232,\n",
      "        22.4242, 22.5253, 22.6263, 22.7273, 22.8283, 22.9293, 23.0303, 23.1313,\n",
      "        23.2323, 23.3333, 23.4343, 23.5354, 23.6364, 23.7374, 23.8384, 23.9394,\n",
      "        24.0404, 24.1414, 24.2424, 24.3434, 24.4444, 24.5455, 24.6465, 24.7475,\n",
      "        24.8485, 24.9495, 25.0505, 25.1515, 25.2525, 25.3535, 25.4545, 25.5556,\n",
      "        25.6566, 25.7576, 25.8586, 25.9596, 26.0606, 26.1616, 26.2626, 26.3636,\n",
      "        26.4646, 26.5657, 26.6667, 26.7677, 26.8687, 26.9697, 27.0707, 27.1717,\n",
      "        27.2727, 27.3737, 27.4747, 27.5758, 27.6768, 27.7778, 27.8788, 27.9798,\n",
      "        28.0808, 28.1818, 28.2828, 28.3838, 28.4848, 28.5859, 28.6869, 28.7879,\n",
      "        28.8889, 28.9899, 29.0909, 29.1919, 29.2929, 29.3939, 29.4949, 29.5960,\n",
      "        29.6970, 29.7980, 29.8990, 30.0000])\n",
      "-------------------------\n"
     ]
    }
   ],
   "source": [
    "#linspace(start, end, number of elements)\n",
    "# Linespace returns evenly spaced numbers over a specified interval.\n",
    "ls = torch.linspace(20, 30, 100)\n",
    "describe(ls)"
   ]
  },
  {
   "cell_type": "code",
   "execution_count": 31,
   "metadata": {
    "colab": {
     "base_uri": "https://localhost:8080/",
     "height": 208
    },
    "id": "vVgnskDqVzEW",
    "outputId": "1b385954-6da2-49f7-c324-1ff566ef2365"
   },
   "outputs": [
    {
     "name": "stdout",
     "output_type": "stream",
     "text": [
      "Python Type (type(x)) :: <class 'torch.Tensor'>\n",
      "Type (x.type()) :: torch.FloatTensor\n",
      "Data Type (x.dtype) :: torch.float32\n",
      "Shape/Size (x.size()) :: torch.Size([34])\n",
      "Shape/Size (x.shape) :: torch.Size([34])\n",
      "Number of elements (x.numel()) :: 34\n",
      "Dimension (x.dim()) :: 1\n",
      "Data :: \n",
      "tensor([ 0.,  3.,  6.,  9., 12., 15., 18., 21., 24., 27., 30., 33., 36., 39.,\n",
      "        42., 45., 48., 51., 54., 57., 60., 63., 66., 69., 72., 75., 78., 81.,\n",
      "        84., 87., 90., 93., 96., 99.])\n",
      "-------------------------\n"
     ]
    }
   ],
   "source": [
    "#range(start, end, skip)\n",
    "rg = torch.range(0, 100, 3)\n",
    "describe(rg)"
   ]
  },
  {
   "cell_type": "markdown",
   "metadata": {
    "id": "APXpPPkAVzEa"
   },
   "source": [
    "## Indexing & Slicing\n",
    "Accessing elements, rows, columns, sub-tensor from a tensor"
   ]
  },
  {
   "cell_type": "code",
   "execution_count": 32,
   "metadata": {
    "colab": {
     "base_uri": "https://localhost:8080/",
     "height": 104
    },
    "id": "ImJc56ShVzEb",
    "outputId": "65878ea8-ecec-45dc-aa01-1a76520bc728"
   },
   "outputs": [
    {
     "data": {
      "text/plain": [
       "tensor([[82, 86, 22, 45],\n",
       "        [39, 23, 39, 69],\n",
       "        [34, 32, 52, 41],\n",
       "        [49, 25,  4, 69],\n",
       "        [68, 98, 31, 61]])"
      ]
     },
     "execution_count": 32,
     "metadata": {},
     "output_type": "execute_result"
    }
   ],
   "source": [
    "rand_ints.data"
   ]
  },
  {
   "cell_type": "code",
   "execution_count": 33,
   "metadata": {
    "colab": {
     "base_uri": "https://localhost:8080/",
     "height": 34
    },
    "id": "bcypNmokcfKR",
    "outputId": "f910f95b-5fac-4720-fcf0-1d1dcb6cabda"
   },
   "outputs": [
    {
     "data": {
      "text/plain": [
       "tensor(22)"
      ]
     },
     "execution_count": 33,
     "metadata": {},
     "output_type": "execute_result"
    }
   ],
   "source": [
    "rand_ints[0][2]"
   ]
  },
  {
   "cell_type": "code",
   "execution_count": 34,
   "metadata": {},
   "outputs": [
    {
     "data": {
      "text/plain": [
       "tensor(22)"
      ]
     },
     "execution_count": 34,
     "metadata": {},
     "output_type": "execute_result"
    }
   ],
   "source": [
    "rand_ints[0,2]"
   ]
  },
  {
   "cell_type": "markdown",
   "metadata": {
    "id": "lbce4K-HclIp"
   },
   "source": [
    "Accessing an element from a tensor returns tensor object. To get the element use `.item()`"
   ]
  },
  {
   "cell_type": "code",
   "execution_count": 35,
   "metadata": {
    "colab": {
     "base_uri": "https://localhost:8080/",
     "height": 34
    },
    "id": "X4Vvtgk7c3yl",
    "outputId": "13205a86-da10-4d5f-fef4-231bcaa60c72"
   },
   "outputs": [
    {
     "data": {
      "text/plain": [
       "22"
      ]
     },
     "execution_count": 35,
     "metadata": {},
     "output_type": "execute_result"
    }
   ],
   "source": [
    "rand_ints[0][2].item()"
   ]
  },
  {
   "cell_type": "code",
   "execution_count": 36,
   "metadata": {
    "colab": {
     "base_uri": "https://localhost:8080/",
     "height": 34
    },
    "id": "3kU7C7uxVzEg",
    "outputId": "d4d841dd-4852-44b0-d4ad-aba755c24112"
   },
   "outputs": [
    {
     "data": {
      "text/plain": [
       "tensor([32, 52])"
      ]
     },
     "execution_count": 36,
     "metadata": {},
     "output_type": "execute_result"
    }
   ],
   "source": [
    "#Indexing and Slicing\n",
    "#3rd row, 2nd and 3rd column\n",
    "rand_ints[2, 1:3]"
   ]
  },
  {
   "cell_type": "code",
   "execution_count": 37,
   "metadata": {
    "colab": {
     "base_uri": "https://localhost:8080/",
     "height": 104
    },
    "id": "XLztJGXxVzEl",
    "outputId": "cac42e25-444c-41b4-e6ce-637a3bb288ff"
   },
   "outputs": [
    {
     "data": {
      "text/plain": [
       "tensor([[82, 86, 22, 45],\n",
       "        [39, 23, 39, 69],\n",
       "        [34, 19, 91, 41],\n",
       "        [49, 25,  4, 69],\n",
       "        [68, 98, 31, 61]])"
      ]
     },
     "execution_count": 37,
     "metadata": {},
     "output_type": "execute_result"
    }
   ],
   "source": [
    "#Updating the tensor\n",
    "rand_ints[2, 1:3] = torch.Tensor([19, 91])\n",
    "rand_ints.data"
   ]
  },
  {
   "cell_type": "code",
   "execution_count": 38,
   "metadata": {
    "colab": {
     "base_uri": "https://localhost:8080/",
     "height": 34
    },
    "id": "0kACHZOCVzEn",
    "outputId": "ae713c21-c142-48bf-dcce-9e1cf7061778"
   },
   "outputs": [
    {
     "data": {
      "text/plain": [
       "tensor([82, 39, 34, 49, 68])"
      ]
     },
     "execution_count": 38,
     "metadata": {},
     "output_type": "execute_result"
    }
   ],
   "source": [
    "#first column\n",
    "rand_ints[:, 0]"
   ]
  },
  {
   "cell_type": "code",
   "execution_count": 39,
   "metadata": {
    "colab": {
     "base_uri": "https://localhost:8080/",
     "height": 52
    },
    "id": "KG9hWXRBVzEr",
    "outputId": "a6eb1c8c-74b8-4ded-b5ff-52a3cc35d8ac"
   },
   "outputs": [
    {
     "data": {
      "text/plain": [
       "tensor([[82, 86, 22, 45],\n",
       "        [39, 23, 39, 69]])"
      ]
     },
     "execution_count": 39,
     "metadata": {},
     "output_type": "execute_result"
    }
   ],
   "source": [
    "#first 2 row\n",
    "rand_ints[:2,:]"
   ]
  },
  {
   "cell_type": "code",
   "execution_count": 40,
   "metadata": {
    "colab": {
     "base_uri": "https://localhost:8080/",
     "height": 104
    },
    "id": "tKca1Q0oVzEx",
    "outputId": "5534331e-1a1e-449a-a6bf-e1d01673b6d5"
   },
   "outputs": [
    {
     "data": {
      "text/plain": [
       "tensor([[86, 22, 45],\n",
       "        [23, 39, 69],\n",
       "        [19, 91, 41],\n",
       "        [25,  4, 69],\n",
       "        [98, 31, 61]])"
      ]
     },
     "execution_count": 40,
     "metadata": {},
     "output_type": "execute_result"
    }
   ],
   "source": [
    "#last 3 column\n",
    "rand_ints[:,-3:]"
   ]
  },
  {
   "cell_type": "code",
   "execution_count": 41,
   "metadata": {
    "colab": {
     "base_uri": "https://localhost:8080/",
     "height": 34
    },
    "id": "-SBACDKkVzE1",
    "outputId": "3590f751-c52f-4da8-8a26-78db299568a3"
   },
   "outputs": [
    {
     "data": {
      "text/plain": [
       "tensor([68, 98, 31, 61])"
      ]
     },
     "execution_count": 41,
     "metadata": {},
     "output_type": "execute_result"
    }
   ],
   "source": [
    "#last row\n",
    "rand_ints[-1,:]"
   ]
  },
  {
   "cell_type": "markdown",
   "metadata": {
    "id": "Vnrn5OA4VzE5"
   },
   "source": [
    "#### Non-contiguous row/cols indexing using `torch.index_select()`"
   ]
  },
  {
   "cell_type": "code",
   "execution_count": 42,
   "metadata": {
    "colab": {
     "base_uri": "https://localhost:8080/",
     "height": 243
    },
    "id": "at0N-nxhVzE6",
    "outputId": "f5840bc3-bac2-4e7c-d8fc-9aebfc2e3593"
   },
   "outputs": [
    {
     "name": "stdout",
     "output_type": "stream",
     "text": [
      "Python Type (type(x)) :: <class 'torch.Tensor'>\n",
      "Type (x.type()) :: torch.LongTensor\n",
      "Data Type (x.dtype) :: torch.int64\n",
      "Shape/Size (x.size()) :: torch.Size([5, 2])\n",
      "Shape/Size (x.shape) :: torch.Size([5, 2])\n",
      "Number of elements (x.numel()) :: 10\n",
      "Dimension (x.dim()) :: 2\n",
      "Data :: \n",
      "tensor([[86, 45],\n",
      "        [23, 69],\n",
      "        [19, 41],\n",
      "        [25, 69],\n",
      "        [98, 61]])\n",
      "-------------------------\n"
     ]
    }
   ],
   "source": [
    "#Access 2nd and 4th col\n",
    "indices = torch.LongTensor([1,3]) # Index must be integers\n",
    "describe(torch.index_select(rand_ints, dim=1, index=indices))"
   ]
  },
  {
   "cell_type": "code",
   "execution_count": 43,
   "metadata": {},
   "outputs": [
    {
     "data": {
      "text/plain": [
       "tensor([[86, 45],\n",
       "        [23, 69],\n",
       "        [19, 41],\n",
       "        [25, 69],\n",
       "        [98, 61]])"
      ]
     },
     "execution_count": 43,
     "metadata": {},
     "output_type": "execute_result"
    }
   ],
   "source": [
    "rand_ints[:,[1,3]]"
   ]
  },
  {
   "cell_type": "code",
   "execution_count": 44,
   "metadata": {
    "colab": {
     "base_uri": "https://localhost:8080/",
     "height": 191
    },
    "id": "GFeAi3mRVzE9",
    "outputId": "57376d79-ec37-4549-e03e-168bb3494daf"
   },
   "outputs": [
    {
     "name": "stdout",
     "output_type": "stream",
     "text": [
      "Python Type (type(x)) :: <class 'torch.Tensor'>\n",
      "Type (x.type()) :: torch.LongTensor\n",
      "Data Type (x.dtype) :: torch.int64\n",
      "Shape/Size (x.size()) :: torch.Size([2, 4])\n",
      "Shape/Size (x.shape) :: torch.Size([2, 4])\n",
      "Number of elements (x.numel()) :: 8\n",
      "Dimension (x.dim()) :: 2\n",
      "Data :: \n",
      "tensor([[39, 23, 39, 69],\n",
      "        [49, 25,  4, 69]])\n",
      "-------------------------\n"
     ]
    }
   ],
   "source": [
    "#access 2nd and 4th row\n",
    "describe(torch.index_select(rand_ints, dim=0, index=indices))"
   ]
  },
  {
   "cell_type": "code",
   "execution_count": 45,
   "metadata": {},
   "outputs": [
    {
     "data": {
      "text/plain": [
       "tensor([[39, 23, 39, 69],\n",
       "        [49, 25,  4, 69]])"
      ]
     },
     "execution_count": 45,
     "metadata": {},
     "output_type": "execute_result"
    }
   ],
   "source": [
    "rand_ints[[1,3]]"
   ]
  },
  {
   "cell_type": "markdown",
   "metadata": {},
   "source": [
    "#### Non-contiguous cell indexing"
   ]
  },
  {
   "cell_type": "code",
   "execution_count": 46,
   "metadata": {},
   "outputs": [
    {
     "name": "stdout",
     "output_type": "stream",
     "text": [
      "tensor([[82, 86, 22, 45],\n",
      "        [39, 23, 39, 69],\n",
      "        [34, 19, 91, 41],\n",
      "        [49, 25,  4, 69],\n",
      "        [68, 98, 31, 61]])\n"
     ]
    },
    {
     "data": {
      "text/plain": [
       "tensor([91, 69, 82, 25, 61])"
      ]
     },
     "execution_count": 46,
     "metadata": {},
     "output_type": "execute_result"
    }
   ],
   "source": [
    "print(rand_ints.data)\n",
    "idx = torch.LongTensor([[2,2], [1,3], [0,0], [3,1], [4,3]])\n",
    "rand_ints[list(idx.T)]"
   ]
  },
  {
   "cell_type": "markdown",
   "metadata": {},
   "source": [
    "### Joining tensors"
   ]
  },
  {
   "cell_type": "markdown",
   "metadata": {},
   "source": [
    "`torch.cat()`: Concatenating sequence of tensor along a given dimension (existing axis).\n",
    "\n",
    "All tensors must have same shape or be empty."
   ]
  },
  {
   "cell_type": "code",
   "execution_count": 47,
   "metadata": {},
   "outputs": [
    {
     "name": "stdout",
     "output_type": "stream",
     "text": [
      "Python Type (type(x)) :: <class 'torch.Tensor'>\n",
      "Type (x.type()) :: torch.LongTensor\n",
      "Data Type (x.dtype) :: torch.int64\n",
      "Shape/Size (x.size()) :: torch.Size([10, 4])\n",
      "Shape/Size (x.shape) :: torch.Size([10, 4])\n",
      "Number of elements (x.numel()) :: 40\n",
      "Dimension (x.dim()) :: 2\n",
      "Data :: \n",
      "tensor([[82, 86, 22, 45],\n",
      "        [39, 23, 39, 69],\n",
      "        [34, 19, 91, 41],\n",
      "        [49, 25,  4, 69],\n",
      "        [68, 98, 31, 61],\n",
      "        [82, 86, 22, 45],\n",
      "        [39, 23, 39, 69],\n",
      "        [34, 19, 91, 41],\n",
      "        [49, 25,  4, 69],\n",
      "        [68, 98, 31, 61]])\n",
      "-------------------------\n"
     ]
    }
   ],
   "source": [
    "t1 = torch.cat([rand_ints, rand_ints], dim=0)\n",
    "describe(t1)"
   ]
  },
  {
   "cell_type": "code",
   "execution_count": 48,
   "metadata": {},
   "outputs": [
    {
     "name": "stdout",
     "output_type": "stream",
     "text": [
      "Python Type (type(x)) :: <class 'torch.Tensor'>\n",
      "Type (x.type()) :: torch.LongTensor\n",
      "Data Type (x.dtype) :: torch.int64\n",
      "Shape/Size (x.size()) :: torch.Size([5, 12])\n",
      "Shape/Size (x.shape) :: torch.Size([5, 12])\n",
      "Number of elements (x.numel()) :: 60\n",
      "Dimension (x.dim()) :: 2\n",
      "Data :: \n",
      "tensor([[82, 86, 22, 45, 82, 86, 22, 45, 82, 86, 22, 45],\n",
      "        [39, 23, 39, 69, 39, 23, 39, 69, 39, 23, 39, 69],\n",
      "        [34, 19, 91, 41, 34, 19, 91, 41, 34, 19, 91, 41],\n",
      "        [49, 25,  4, 69, 49, 25,  4, 69, 49, 25,  4, 69],\n",
      "        [68, 98, 31, 61, 68, 98, 31, 61, 68, 98, 31, 61]])\n",
      "-------------------------\n"
     ]
    }
   ],
   "source": [
    "t1 = torch.cat([rand_ints, rand_ints, rand_ints], dim=1)\n",
    "describe(t1)"
   ]
  },
  {
   "cell_type": "markdown",
   "metadata": {},
   "source": [
    "`torch.stack(tensors, dim=0, *, out=None)`: Concatenates a sequence of tensors along a new dimension (new axis)."
   ]
  },
  {
   "cell_type": "code",
   "execution_count": 49,
   "metadata": {},
   "outputs": [
    {
     "name": "stdout",
     "output_type": "stream",
     "text": [
      "Python Type (type(x)) :: <class 'torch.Tensor'>\n",
      "Type (x.type()) :: torch.LongTensor\n",
      "Data Type (x.dtype) :: torch.int64\n",
      "Shape/Size (x.size()) :: torch.Size([2, 5, 4])\n",
      "Shape/Size (x.shape) :: torch.Size([2, 5, 4])\n",
      "Number of elements (x.numel()) :: 40\n",
      "Dimension (x.dim()) :: 3\n",
      "Data :: \n",
      "tensor([[[82, 86, 22, 45],\n",
      "         [39, 23, 39, 69],\n",
      "         [34, 19, 91, 41],\n",
      "         [49, 25,  4, 69],\n",
      "         [68, 98, 31, 61]],\n",
      "\n",
      "        [[82, 86, 22, 45],\n",
      "         [39, 23, 39, 69],\n",
      "         [34, 19, 91, 41],\n",
      "         [49, 25,  4, 69],\n",
      "         [68, 98, 31, 61]]])\n",
      "-------------------------\n"
     ]
    }
   ],
   "source": [
    "stacked_t1 = torch.stack([rand_ints, rand_ints], dim=0)\n",
    "describe(stacked_t1)"
   ]
  },
  {
   "cell_type": "markdown",
   "metadata": {},
   "source": [
    "### Splitting the tensor"
   ]
  },
  {
   "cell_type": "markdown",
   "metadata": {},
   "source": [
    "`torch.chunk()`: Splits the tensor into a specific number of chunks."
   ]
  },
  {
   "cell_type": "code",
   "execution_count": 50,
   "metadata": {},
   "outputs": [
    {
     "data": {
      "text/plain": [
       "(tensor([[82, 86, 22, 45],\n",
       "         [39, 23, 39, 69],\n",
       "         [34, 19, 91, 41],\n",
       "         [49, 25,  4, 69],\n",
       "         [68, 98, 31, 61]]),\n",
       " tensor([[82, 86, 22, 45],\n",
       "         [39, 23, 39, 69],\n",
       "         [34, 19, 91, 41],\n",
       "         [49, 25,  4, 69],\n",
       "         [68, 98, 31, 61]]),\n",
       " tensor([[82, 86, 22, 45],\n",
       "         [39, 23, 39, 69],\n",
       "         [34, 19, 91, 41],\n",
       "         [49, 25,  4, 69],\n",
       "         [68, 98, 31, 61]]))"
      ]
     },
     "execution_count": 50,
     "metadata": {},
     "output_type": "execute_result"
    }
   ],
   "source": [
    "torch.chunk(t1, 3, dim=1)"
   ]
  },
  {
   "cell_type": "code",
   "execution_count": 51,
   "metadata": {},
   "outputs": [
    {
     "data": {
      "text/plain": [
       "(tensor([[82, 86, 22, 45, 82, 86, 22, 45, 82, 86, 22, 45],\n",
       "         [39, 23, 39, 69, 39, 23, 39, 69, 39, 23, 39, 69]]),\n",
       " tensor([[34, 19, 91, 41, 34, 19, 91, 41, 34, 19, 91, 41],\n",
       "         [49, 25,  4, 69, 49, 25,  4, 69, 49, 25,  4, 69]]),\n",
       " tensor([[68, 98, 31, 61, 68, 98, 31, 61, 68, 98, 31, 61]]))"
      ]
     },
     "execution_count": 51,
     "metadata": {},
     "output_type": "execute_result"
    }
   ],
   "source": [
    "torch.chunk(t1, 3, dim=0)"
   ]
  },
  {
   "cell_type": "markdown",
   "metadata": {},
   "source": [
    "`torch.split(tensor, split_size_or_sections, dim=0)`: Another function to split the tensor, insted of number of chunks, size of chunk needs to be passed. If the tensor_size is not divisible by split_size, last chunk will be smaller."
   ]
  },
  {
   "cell_type": "code",
   "execution_count": 52,
   "metadata": {},
   "outputs": [
    {
     "data": {
      "text/plain": [
       "(tensor([[82, 86, 22, 45, 82, 86, 22, 45, 82, 86, 22, 45],\n",
       "         [39, 23, 39, 69, 39, 23, 39, 69, 39, 23, 39, 69],\n",
       "         [34, 19, 91, 41, 34, 19, 91, 41, 34, 19, 91, 41]]),\n",
       " tensor([[49, 25,  4, 69, 49, 25,  4, 69, 49, 25,  4, 69],\n",
       "         [68, 98, 31, 61, 68, 98, 31, 61, 68, 98, 31, 61]]))"
      ]
     },
     "execution_count": 52,
     "metadata": {},
     "output_type": "execute_result"
    }
   ],
   "source": [
    "torch.split(t1, 3, dim=0)"
   ]
  },
  {
   "cell_type": "markdown",
   "metadata": {},
   "source": [
    "if section, sum of section sizes must be equal to total (`3 + 2 + 3 + 4 = 12`, here number of columns)"
   ]
  },
  {
   "cell_type": "code",
   "execution_count": 53,
   "metadata": {},
   "outputs": [
    {
     "data": {
      "text/plain": [
       "(tensor([[82, 86, 22],\n",
       "         [39, 23, 39],\n",
       "         [34, 19, 91],\n",
       "         [49, 25,  4],\n",
       "         [68, 98, 31]]),\n",
       " tensor([[45, 82],\n",
       "         [69, 39],\n",
       "         [41, 34],\n",
       "         [69, 49],\n",
       "         [61, 68]]),\n",
       " tensor([[86, 22, 45],\n",
       "         [23, 39, 69],\n",
       "         [19, 91, 41],\n",
       "         [25,  4, 69],\n",
       "         [98, 31, 61]]),\n",
       " tensor([[82, 86, 22, 45],\n",
       "         [39, 23, 39, 69],\n",
       "         [34, 19, 91, 41],\n",
       "         [49, 25,  4, 69],\n",
       "         [68, 98, 31, 61]]))"
      ]
     },
     "execution_count": 53,
     "metadata": {},
     "output_type": "execute_result"
    }
   ],
   "source": [
    "torch.split(t1, [3,2,3,4], dim=1)"
   ]
  },
  {
   "cell_type": "markdown",
   "metadata": {},
   "source": [
    "### Squeeze and Unsqueeze"
   ]
  },
  {
   "cell_type": "markdown",
   "metadata": {},
   "source": [
    "`torch.squeeze()`:  Returns a tensor with all the dimensions of input of size 1 removed.\n",
    "\n",
    "For example, if input is of shape: (A×1×B×C×1×D) then the out tensor will be of shape: (A×B×C×D) "
   ]
  },
  {
   "cell_type": "code",
   "execution_count": 54,
   "metadata": {},
   "outputs": [
    {
     "name": "stdout",
     "output_type": "stream",
     "text": [
      "torch.Size([2, 1, 2, 1, 2])\n",
      "\n",
      "torch.Size([2, 2, 2])\n",
      "\n",
      "torch.Size([2, 2, 1, 2])\n",
      "\n",
      "torch.Size([2, 1, 2, 2])\n"
     ]
    }
   ],
   "source": [
    "x = torch.zeros(2,1,2,1,2)\n",
    "print(x.size())\n",
    "print(\"\")\n",
    "y = torch.squeeze(x)\n",
    "print(y.size())\n",
    "print(\"\")\n",
    "y = torch.squeeze(x, dim=1)\n",
    "print(y.size())\n",
    "print(\"\")\n",
    "y = torch.squeeze(x, dim=3)\n",
    "print(y.size())"
   ]
  },
  {
   "cell_type": "markdown",
   "metadata": {},
   "source": [
    "`torch.unsqueeze(input, dim)`: Returns a new tensor with a dimension of size one inserted at the specified position.\n",
    "\n",
    "The returned tensor shares the same underlying data with this tensor."
   ]
  },
  {
   "cell_type": "code",
   "execution_count": 55,
   "metadata": {},
   "outputs": [
    {
     "data": {
      "text/plain": [
       "tensor([[82, 86, 22, 45],\n",
       "        [39, 23, 39, 69],\n",
       "        [34, 19, 91, 41],\n",
       "        [49, 25,  4, 69],\n",
       "        [68, 98, 31, 61]])"
      ]
     },
     "execution_count": 55,
     "metadata": {},
     "output_type": "execute_result"
    }
   ],
   "source": [
    "rand_ints"
   ]
  },
  {
   "cell_type": "code",
   "execution_count": 56,
   "metadata": {},
   "outputs": [
    {
     "data": {
      "text/plain": [
       "(tensor([[[82, 86, 22, 45],\n",
       "          [39, 23, 39, 69],\n",
       "          [34, 19, 91, 41],\n",
       "          [49, 25,  4, 69],\n",
       "          [68, 98, 31, 61]]]),\n",
       " torch.Size([1, 5, 4]))"
      ]
     },
     "execution_count": 56,
     "metadata": {},
     "output_type": "execute_result"
    }
   ],
   "source": [
    "torch.unsqueeze(rand_ints, dim=0), torch.unsqueeze(rand_ints, dim=0).size()"
   ]
  },
  {
   "cell_type": "code",
   "execution_count": 57,
   "metadata": {},
   "outputs": [
    {
     "data": {
      "text/plain": [
       "(tensor([[[82, 86, 22, 45]],\n",
       " \n",
       "         [[39, 23, 39, 69]],\n",
       " \n",
       "         [[34, 19, 91, 41]],\n",
       " \n",
       "         [[49, 25,  4, 69]],\n",
       " \n",
       "         [[68, 98, 31, 61]]]),\n",
       " torch.Size([5, 1, 4]))"
      ]
     },
     "execution_count": 57,
     "metadata": {},
     "output_type": "execute_result"
    }
   ],
   "source": [
    "torch.unsqueeze(rand_ints, dim=1), torch.unsqueeze(rand_ints, dim=1).size()"
   ]
  },
  {
   "cell_type": "markdown",
   "metadata": {
    "id": "quy_3o7mVzFA"
   },
   "source": [
    "### Reshaping"
   ]
  },
  {
   "cell_type": "code",
   "execution_count": 58,
   "metadata": {
    "colab": {
     "base_uri": "https://localhost:8080/",
     "height": 416
    },
    "id": "CB7osVMOVzFB",
    "outputId": "fe8d12a8-6239-4fba-a5a1-5834e8be3cbe"
   },
   "outputs": [
    {
     "name": "stdout",
     "output_type": "stream",
     "text": [
      "Python Type (type(x)) :: <class 'torch.Tensor'>\n",
      "Type (x.type()) :: torch.IntTensor\n",
      "Data Type (x.dtype) :: torch.int32\n",
      "Shape/Size (x.size()) :: torch.Size([20])\n",
      "Shape/Size (x.shape) :: torch.Size([20])\n",
      "Number of elements (x.numel()) :: 20\n",
      "Dimension (x.dim()) :: 1\n",
      "Data :: \n",
      "tensor([ 1,  2,  3,  4,  5,  6,  7,  8,  9, 10, 11, 12, 13, 14, 15, 16, 17, 18,\n",
      "        19, 20], dtype=torch.int32)\n",
      "-------------------------\n",
      "Python Type (type(x)) :: <class 'torch.Tensor'>\n",
      "Type (x.type()) :: torch.IntTensor\n",
      "Data Type (x.dtype) :: torch.int32\n",
      "Shape/Size (x.size()) :: torch.Size([2, 2, 5])\n",
      "Shape/Size (x.shape) :: torch.Size([2, 2, 5])\n",
      "Number of elements (x.numel()) :: 20\n",
      "Dimension (x.dim()) :: 3\n",
      "Data :: \n",
      "tensor([[[ 1,  2,  3,  4,  5],\n",
      "         [ 6,  7,  8,  9, 10]],\n",
      "\n",
      "        [[11, 12, 13, 14, 15],\n",
      "         [16, 17, 18, 19, 20]]], dtype=torch.int32)\n",
      "-------------------------\n"
     ]
    }
   ],
   "source": [
    "a = torch.arange(1, 21, dtype=torch.int32)\n",
    "describe(a)\n",
    "reshaped_a = a.view(2,2,5)\n",
    "describe(reshaped_a)"
   ]
  },
  {
   "cell_type": "code",
   "execution_count": 59,
   "metadata": {
    "colab": {
     "base_uri": "https://localhost:8080/",
     "height": 816
    },
    "id": "IGkSDDzFVzFE",
    "outputId": "23c50c08-e545-49b6-86d6-76ce473f7259"
   },
   "outputs": [
    {
     "name": "stdout",
     "output_type": "stream",
     "text": [
      "Python Type (type(x)) :: <class 'torch.Tensor'>\n",
      "Type (x.type()) :: torch.IntTensor\n",
      "Data Type (x.dtype) :: torch.int32\n",
      "Shape/Size (x.size()) :: torch.Size([5, 4])\n",
      "Shape/Size (x.shape) :: torch.Size([5, 4])\n",
      "Number of elements (x.numel()) :: 20\n",
      "Dimension (x.dim()) :: 2\n",
      "Data :: \n",
      "tensor([[ 1,  2,  3,  4],\n",
      "        [ 5,  6,  7,  8],\n",
      "        [ 9, 10, 11, 12],\n",
      "        [13, 14, 15, 16],\n",
      "        [17, 18, 19, 20]], dtype=torch.int32)\n",
      "-------------------------\n",
      "Python Type (type(x)) :: <class 'torch.Tensor'>\n",
      "Type (x.type()) :: torch.IntTensor\n",
      "Data Type (x.dtype) :: torch.int32\n",
      "Shape/Size (x.size()) :: torch.Size([10, 2])\n",
      "Shape/Size (x.shape) :: torch.Size([10, 2])\n",
      "Number of elements (x.numel()) :: 20\n",
      "Dimension (x.dim()) :: 2\n",
      "Data :: \n",
      "tensor([[ 1,  2],\n",
      "        [ 3,  4],\n",
      "        [ 5,  6],\n",
      "        [ 7,  8],\n",
      "        [ 9, 10],\n",
      "        [11, 12],\n",
      "        [13, 14],\n",
      "        [15, 16],\n",
      "        [17, 18],\n",
      "        [19, 20]], dtype=torch.int32)\n",
      "-------------------------\n"
     ]
    }
   ],
   "source": [
    "# For dynamic size arrays or when size is unknown\n",
    "# -1 is inferred from other dimension\n",
    "# Only one arguement can be set to -1\n",
    "reshaped_a = a.view(-1,4)\n",
    "describe(reshaped_a)\n",
    "reshaped_a = a.view(10,-1)\n",
    "describe(reshaped_a)"
   ]
  },
  {
   "cell_type": "markdown",
   "metadata": {
    "id": "RVgOiwPoVzFG"
   },
   "source": [
    "### Tensor Functions\n",
    "#### sum(), max(), mean(), median(), min(), std(), etc"
   ]
  },
  {
   "cell_type": "code",
   "execution_count": 60,
   "metadata": {
    "colab": {
     "base_uri": "https://localhost:8080/",
     "height": 86
    },
    "id": "TWzh0wnOVzFH",
    "outputId": "614d0266-a17a-4b3f-afac-a1fea35773de"
   },
   "outputs": [
    {
     "name": "stdout",
     "output_type": "stream",
     "text": [
      "tensor([[[ 1,  2],\n",
      "         [ 3,  4],\n",
      "         [ 5,  6],\n",
      "         [ 7,  8],\n",
      "         [ 9, 10]],\n",
      "\n",
      "        [[11, 12],\n",
      "         [13, 14],\n",
      "         [15, 16],\n",
      "         [17, 18],\n",
      "         [19, 20]]], dtype=torch.int32)\n",
      "\n",
      "tensor(210)\n",
      "\n",
      "tensor([[12, 14],\n",
      "        [16, 18],\n",
      "        [20, 22],\n",
      "        [24, 26],\n",
      "        [28, 30]])\n",
      "\n",
      "tensor([[25, 30],\n",
      "        [75, 80]])\n",
      "\n",
      "tensor([[ 3,  7, 11, 15, 19],\n",
      "        [23, 27, 31, 35, 39]])\n"
     ]
    }
   ],
   "source": [
    "# For 3d tensors, dim=0 represents 2D tenasors, dim=1 represents rows, dim=2 represents column\n",
    "a = a.view(2,5,2)\n",
    "print(a)\n",
    "print(\"\")\n",
    "print(a.sum()) \n",
    "print(\"\")\n",
    "print(a.sum(dim=0))\n",
    "print(\"\")\n",
    "print(a.sum(dim=1))\n",
    "print(\"\")\n",
    "print(a.sum(dim=2))"
   ]
  },
  {
   "cell_type": "code",
   "execution_count": 61,
   "metadata": {},
   "outputs": [
    {
     "data": {
      "text/plain": [
       "tensor(10.5000)"
      ]
     },
     "execution_count": 61,
     "metadata": {},
     "output_type": "execute_result"
    }
   ],
   "source": [
    "a.float().mean()"
   ]
  },
  {
   "cell_type": "code",
   "execution_count": 62,
   "metadata": {},
   "outputs": [
    {
     "data": {
      "text/plain": [
       "tensor(5.9161)"
      ]
     },
     "execution_count": 62,
     "metadata": {},
     "output_type": "execute_result"
    }
   ],
   "source": [
    "a.float().std()"
   ]
  },
  {
   "cell_type": "code",
   "execution_count": 63,
   "metadata": {},
   "outputs": [
    {
     "data": {
      "text/plain": [
       "tensor(20, dtype=torch.int32)"
      ]
     },
     "execution_count": 63,
     "metadata": {},
     "output_type": "execute_result"
    }
   ],
   "source": [
    "a.max()"
   ]
  },
  {
   "cell_type": "code",
   "execution_count": 64,
   "metadata": {},
   "outputs": [
    {
     "data": {
      "text/plain": [
       "tensor(1, dtype=torch.int32)"
      ]
     },
     "execution_count": 64,
     "metadata": {},
     "output_type": "execute_result"
    }
   ],
   "source": [
    "a.min()"
   ]
  },
  {
   "cell_type": "code",
   "execution_count": 65,
   "metadata": {
    "id": "YF20SBZ_VzFO"
   },
   "outputs": [],
   "source": [
    "tnsr = torch.linspace(0, 2*np.pi, 100)\n",
    "sin_tnsr = torch.sin(tnsr)"
   ]
  },
  {
   "cell_type": "code",
   "execution_count": 66,
   "metadata": {
    "id": "sbjV4zU8VzFR"
   },
   "outputs": [],
   "source": [
    "# command \"matplotlib inline\" to display the plot.\n",
    "%matplotlib inline"
   ]
  },
  {
   "cell_type": "code",
   "execution_count": 67,
   "metadata": {
    "colab": {
     "base_uri": "https://localhost:8080/",
     "height": 282
    },
    "id": "mThL4KO7VzFW",
    "outputId": "2880096f-a3ec-4b62-f875-11102c7384e3"
   },
   "outputs": [
    {
     "data": {
      "text/plain": [
       "[<matplotlib.lines.Line2D at 0x7f7ed5a2ece0>]"
      ]
     },
     "execution_count": 67,
     "metadata": {},
     "output_type": "execute_result"
    },
    {
     "data": {
      "image/png": "[encoded data removed]",
      "text/plain": [
       "<Figure size 640x480 with 1 Axes>"
      ]
     },
     "metadata": {},
     "output_type": "display_data"
    }
   ],
   "source": [
    "plt.plot(tnsr.numpy(), sin_tnsr.numpy())"
   ]
  },
  {
   "cell_type": "markdown",
   "metadata": {},
   "source": [
    "Check this [link](https://pytorch.org/docs/stable/torch.html#) for more tensor operations."
   ]
  },
  {
   "cell_type": "markdown",
   "metadata": {
    "id": "LPaWdZ_wVzGA"
   },
   "source": [
    "### Arithmetic"
   ]
  },
  {
   "cell_type": "code",
   "execution_count": 68,
   "metadata": {
    "colab": {
     "base_uri": "https://localhost:8080/",
     "height": 121
    },
    "id": "KKurX3ZeVzGB",
    "outputId": "6e5e7902-c5d6-43a4-9a51-ed558306bd66"
   },
   "outputs": [
    {
     "name": "stdout",
     "output_type": "stream",
     "text": [
      "tensor([[0, 6],\n",
      "        [3, 7]])\n",
      "tensor([[6, 6],\n",
      "        [2, 6]])\n"
     ]
    },
    {
     "data": {
      "text/plain": [
       "tensor([[ 6, 12],\n",
       "        [ 5, 13]])"
      ]
     },
     "execution_count": 68,
     "metadata": {},
     "output_type": "execute_result"
    }
   ],
   "source": [
    "#Arithmetic operations +, -, *, /\n",
    "a = torch.randint(0,10,(2,2))\n",
    "print(a)\n",
    "b = torch.randint(0,10,(2,2))\n",
    "print(b)\n",
    "\n",
    "c = a+b\n",
    "c"
   ]
  },
  {
   "cell_type": "code",
   "execution_count": 69,
   "metadata": {
    "colab": {
     "base_uri": "https://localhost:8080/",
     "height": 52
    },
    "id": "ksQk8U5RVzGE",
    "outputId": "b52cce8f-7767-4204-bfd4-5a243ee01b0e"
   },
   "outputs": [
    {
     "data": {
      "text/plain": [
       "tensor([[ 6, 12],\n",
       "        [ 5, 13]])"
      ]
     },
     "execution_count": 69,
     "metadata": {},
     "output_type": "execute_result"
    }
   ],
   "source": [
    "#_ signifies for inplace operation(Here, addition)\n",
    "a.add_(b)"
   ]
  },
  {
   "cell_type": "markdown",
   "metadata": {},
   "source": [
    "`*` or `mul()` signifies element wise multiplication operation. Also known as *Hamdard Product*"
   ]
  },
  {
   "cell_type": "code",
   "execution_count": 70,
   "metadata": {},
   "outputs": [
    {
     "data": {
      "text/plain": [
       "tensor([[ 6, 12],\n",
       "        [ 5, 13]])"
      ]
     },
     "execution_count": 70,
     "metadata": {},
     "output_type": "execute_result"
    }
   ],
   "source": [
    "a"
   ]
  },
  {
   "cell_type": "code",
   "execution_count": 71,
   "metadata": {},
   "outputs": [
    {
     "data": {
      "text/plain": [
       "tensor([[36, 72],\n",
       "        [10, 78]])"
      ]
     },
     "execution_count": 71,
     "metadata": {},
     "output_type": "execute_result"
    }
   ],
   "source": [
    "a * b"
   ]
  },
  {
   "cell_type": "code",
   "execution_count": 72,
   "metadata": {},
   "outputs": [
    {
     "data": {
      "text/plain": [
       "tensor([[24, 48],\n",
       "        [20, 52]])"
      ]
     },
     "execution_count": 72,
     "metadata": {},
     "output_type": "execute_result"
    }
   ],
   "source": [
    "a * 4"
   ]
  },
  {
   "cell_type": "markdown",
   "metadata": {},
   "source": [
    "### Linear Algebra"
   ]
  },
  {
   "cell_type": "code",
   "execution_count": 73,
   "metadata": {
    "colab": {
     "base_uri": "https://localhost:8080/",
     "height": 1000
    },
    "id": "NuAMlJC_VzGR",
    "outputId": "b25edf21-b25a-4930-acea-58ed942d55a0"
   },
   "outputs": [
    {
     "name": "stdout",
     "output_type": "stream",
     "text": [
      "x1 \n",
      "============\n",
      "Python Type (type(x)) :: <class 'torch.Tensor'>\n",
      "Type (x.type()) :: torch.LongTensor\n",
      "Data Type (x.dtype) :: torch.int64\n",
      "Shape/Size (x.size()) :: torch.Size([2, 3])\n",
      "Shape/Size (x.shape) :: torch.Size([2, 3])\n",
      "Number of elements (x.numel()) :: 6\n",
      "Dimension (x.dim()) :: 2\n",
      "Data :: \n",
      "tensor([[0, 1, 2],\n",
      "        [3, 4, 5]])\n",
      "-------------------------\n",
      "============\n",
      "\n",
      "x2 \n",
      "============\n",
      "Python Type (type(x)) :: <class 'torch.Tensor'>\n",
      "Type (x.type()) :: torch.LongTensor\n",
      "Data Type (x.dtype) :: torch.int64\n",
      "Shape/Size (x.size()) :: torch.Size([3, 1])\n",
      "Shape/Size (x.shape) :: torch.Size([3, 1])\n",
      "Number of elements (x.numel()) :: 3\n",
      "Dimension (x.dim()) :: 2\n",
      "Data :: \n",
      "tensor([[8],\n",
      "        [8],\n",
      "        [6]])\n",
      "-------------------------\n",
      "============\n",
      "\n",
      "x1 matmul x2 \n",
      "============\n",
      "Python Type (type(x)) :: <class 'torch.Tensor'>\n",
      "Type (x.type()) :: torch.LongTensor\n",
      "Data Type (x.dtype) :: torch.int64\n",
      "Shape/Size (x.size()) :: torch.Size([2, 1])\n",
      "Shape/Size (x.shape) :: torch.Size([2, 1])\n",
      "Number of elements (x.numel()) :: 2\n",
      "Dimension (x.dim()) :: 2\n",
      "Data :: \n",
      "tensor([[20],\n",
      "        [86]])\n",
      "-------------------------\n",
      "============\n",
      "\n",
      "x1 transpose \n",
      "============\n",
      "Python Type (type(x)) :: <class 'torch.Tensor'>\n",
      "Type (x.type()) :: torch.LongTensor\n",
      "Data Type (x.dtype) :: torch.int64\n",
      "Shape/Size (x.size()) :: torch.Size([3, 2])\n",
      "Shape/Size (x.shape) :: torch.Size([3, 2])\n",
      "Number of elements (x.numel()) :: 6\n",
      "Dimension (x.dim()) :: 2\n",
      "Data :: \n",
      "tensor([[0, 3],\n",
      "        [1, 4],\n",
      "        [2, 5]])\n",
      "-------------------------\n",
      "============\n",
      "\n"
     ]
    }
   ],
   "source": [
    "x1 = torch.arange(6).view(2,3)\n",
    "x2 = torch.randint(1, 11, (3,1))\n",
    "print(\"x1\", \"\\n============\")\n",
    "describe(x1)\n",
    "print(\"============\\n\")\n",
    "print(\"x2\", \"\\n============\")\n",
    "describe(x2)\n",
    "print(\"============\\n\")\n",
    "print(\"x1 matmul x2\", \"\\n============\")\n",
    "describe(torch.matmul(x1, x2))\n",
    "print(\"============\\n\")\n",
    "print(\"x1 transpose\", \"\\n============\")\n",
    "describe(torch.transpose(x1, 0, 1))\n",
    "print(\"============\\n\")"
   ]
  },
  {
   "cell_type": "code",
   "execution_count": 74,
   "metadata": {
    "colab": {
     "base_uri": "https://localhost:8080/",
     "height": 34
    },
    "id": "bEPn0qV_VzGU",
    "outputId": "02ccabae-89db-40f0-9d36-c09e6f34b590"
   },
   "outputs": [
    {
     "data": {
      "text/plain": [
       "tensor(32)"
      ]
     },
     "execution_count": 74,
     "metadata": {},
     "output_type": "execute_result"
    }
   ],
   "source": [
    "#Vector Dot Product\n",
    "v1 = torch.tensor([1,2,3])\n",
    "v2 = torch.tensor([4,5,6])\n",
    "v1.dot(v2)"
   ]
  },
  {
   "cell_type": "code",
   "execution_count": 75,
   "metadata": {},
   "outputs": [
    {
     "data": {
      "text/plain": [
       "tensor(32)"
      ]
     },
     "execution_count": 75,
     "metadata": {},
     "output_type": "execute_result"
    }
   ],
   "source": [
    "torch.dot(v1, v2)"
   ]
  },
  {
   "cell_type": "markdown",
   "metadata": {},
   "source": [
    "### Pytorch and Numpy Bridge"
   ]
  },
  {
   "cell_type": "code",
   "execution_count": 76,
   "metadata": {},
   "outputs": [
    {
     "name": "stdout",
     "output_type": "stream",
     "text": [
      "t: tensor([1., 1., 1., 1., 1.])\n",
      "n: [1. 1. 1. 1. 1.]\n",
      "\n",
      "t: tensor([2., 2., 2., 2., 2.])\n",
      "n: [2. 2. 2. 2. 2.]\n"
     ]
    }
   ],
   "source": [
    "t = torch.ones(5)\n",
    "print(f\"t: {t}\")\n",
    "n = t.numpy()\n",
    "print(f\"n: {n}\")\n",
    "print(\"\")\n",
    "t.add_(1)\n",
    "print(f\"t: {t}\")\n",
    "print(f\"n: {n}\")"
   ]
  },
  {
   "cell_type": "markdown",
   "metadata": {},
   "source": [
    "A change in tensor implies change in the Numpy Array and vice-versa."
   ]
  },
  {
   "cell_type": "code",
   "execution_count": 77,
   "metadata": {},
   "outputs": [
    {
     "name": "stdout",
     "output_type": "stream",
     "text": [
      "t: tensor([1., 1., 1., 1., 1.], dtype=torch.float64)\n",
      "n: [1. 1. 1. 1. 1.]\n",
      "\n",
      "t: tensor([2., 2., 2., 2., 2.], dtype=torch.float64)\n",
      "n: [2. 2. 2. 2. 2.]\n"
     ]
    }
   ],
   "source": [
    "n = np.ones(5)\n",
    "t = torch.from_numpy(n)\n",
    "print(f\"t: {t}\")\n",
    "n = t.numpy()\n",
    "print(f\"n: {n}\")\n",
    "print(\"\")\n",
    "np.add(n, 1, out=n)\n",
    "print(f\"t: {t}\")\n",
    "print(f\"n: {n}\")"
   ]
  },
  {
   "cell_type": "markdown",
   "metadata": {
    "id": "HKHErHniVzHk"
   },
   "source": [
    "## Variables"
   ]
  },
  {
   "cell_type": "code",
   "execution_count": 78,
   "metadata": {
    "colab": {
     "base_uri": "https://localhost:8080/",
     "height": 52
    },
    "id": "sO_3Va-sVzHk",
    "outputId": "09a042d1-b000-42b4-e6e2-c6dcdc2a4eba"
   },
   "outputs": [
    {
     "data": {
      "text/plain": [
       "tensor([[1., 1.],\n",
       "        [1., 1.]], requires_grad=True)"
      ]
     },
     "execution_count": 78,
     "metadata": {},
     "output_type": "execute_result"
    }
   ],
   "source": [
    "# Variables are wrapper around the tensor ith gradient and reference to a function that created it.\n",
    "from torch.autograd import Variable\n",
    "x = Variable(torch.ones(2,2), requires_grad=True)\n",
    "x"
   ]
  },
  {
   "cell_type": "markdown",
   "metadata": {
    "id": "XYrVu-2_VzHo"
   },
   "source": [
    "### Tensor on GPU"
   ]
  },
  {
   "cell_type": "code",
   "execution_count": 79,
   "metadata": {
    "colab": {
     "base_uri": "https://localhost:8080/",
     "height": 52
    },
    "id": "NMk3RFhSVzHp",
    "outputId": "b75670ba-88b6-4089-a629-239f946c6084"
   },
   "outputs": [
    {
     "name": "stdout",
     "output_type": "stream",
     "text": [
      "cpu\n",
      "torch.FloatTensor\n"
     ]
    }
   ],
   "source": [
    "#Tensors can be moved to any device.\n",
    "#Following code checks if GPU is available, maked cuda (GPU) default device.\n",
    "device = torch.device(\"cuda\" if torch.cuda.is_available() else \"cpu\")\n",
    "# use ``torch.device`` objects to move tensors in and out of GPU\n",
    "x3 = torch.rand(2,5).to(device)\n",
    "if device == \"cuda\":\n",
    "    print(torch.cuda.get_device_name(0))\n",
    "    print(x3.type())\n",
    "else:\n",
    "    print(device)\n",
    "    print(x3.type())"
   ]
  },
  {
   "cell_type": "code",
   "execution_count": null,
   "metadata": {},
   "outputs": [],
   "source": []
  }
 ],
 "metadata": {
  "accelerator": "GPU",
  "colab": {
   "name": "pytorch.ipynb",
   "provenance": []
  },
  "kernelspec": {
   "display_name": "Python 3 (ipykernel)",
   "language": "python",
   "name": "python3"
  },
  "language_info": {
   "codemirror_mode": {
    "name": "ipython",
    "version": 3
   },
   "file_extension": ".py",
   "mimetype": "text/x-python",
   "name": "python",
   "nbconvert_exporter": "python",
   "pygments_lexer": "ipython3",
   "version": "3.10.12"
  }
 },
 "nbformat": 4,
 "nbformat_minor": 4
}
