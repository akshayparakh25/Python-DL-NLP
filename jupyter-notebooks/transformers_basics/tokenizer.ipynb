{
 "cells": [
  {
   "cell_type": "markdown",
   "id": "f0ab7947-8d09-4392-92d3-bfd182eb5b89",
   "metadata": {},
   "source": [
    "## Loading the sample data"
   ]
  },
  {
   "cell_type": "code",
   "execution_count": 4,
   "id": "c6363c5c-01b6-4e99-a259-e24dc291719f",
   "metadata": {},
   "outputs": [],
   "source": [
    "data = [\"LTIMindtree Q2FY24: Show of strength. Good revenue growth and resilient margin performance\",\n",
    "        \"The company expects furloughs to be more pronounced in Q3 and it is guiding to a very weak quarter, with revenue decline between 1.5 percent and 3.5 percent\",\n",
    "        \"Arkam Ventures is also an investor in Jai Kisan, one of India’s fastest-growing rural fintech platforms for farmers and retailers, and Jumbotail, India’s leading B2B food and grocery marketplace and retail platform\",\n",
    "       ]"
   ]
  },
  {
   "cell_type": "markdown",
   "id": "4f99bfbf-c830-4878-8376-bd084a715189",
   "metadata": {},
   "source": [
    "## Tokenizers"
   ]
  },
  {
   "cell_type": "markdown",
   "id": "0c1f573d-88e3-4255-8479-eb3475c4a391",
   "metadata": {},
   "source": [
    "### Loading Tokenizers\n",
    "\n",
    "Loading tokenizer can be done using `from_pretrained()` method of any Tokenizer class."
   ]
  },
  {
   "cell_type": "markdown",
   "id": "15c90a71-7b2b-46c3-ad44-7d418095460a",
   "metadata": {},
   "source": [
    "#### AutoTokenizer class \n",
    "This will load the specific tokenizer based on the input provided."
   ]
  },
  {
   "cell_type": "code",
   "execution_count": 1,
   "id": "ba77cf82-73b7-4fb4-83f6-f6a076ce4bad",
   "metadata": {},
   "outputs": [],
   "source": [
    "from transformers import AutoTokenizer"
   ]
  },
  {
   "cell_type": "code",
   "execution_count": 2,
   "id": "d6009bb7-b86f-49ee-a502-b1175d81ee92",
   "metadata": {},
   "outputs": [],
   "source": [
    "tokenizer = AutoTokenizer.from_pretrained('distilbert-base-uncased')"
   ]
  },
  {
   "cell_type": "code",
   "execution_count": 10,
   "id": "efb1411c-17f3-4814-a114-eda2ad1b890b",
   "metadata": {},
   "outputs": [
    {
     "data": {
      "text/plain": [
       "{'input_ids': [101, 8318, 27605, 26379, 9910, 1053, 2475, 12031, 18827, 1024, 2265, 1997, 3997, 1012, 2204, 6599, 3930, 1998, 24501, 18622, 4765, 7785, 2836, 102], 'attention_mask': [1, 1, 1, 1, 1, 1, 1, 1, 1, 1, 1, 1, 1, 1, 1, 1, 1, 1, 1, 1, 1, 1, 1, 1]}"
      ]
     },
     "execution_count": 10,
     "metadata": {},
     "output_type": "execute_result"
    }
   ],
   "source": [
    "tokenizer(data[0])"
   ]
  },
  {
   "cell_type": "markdown",
   "id": "65e1858b-a1f2-4655-a22f-61828a9e7275",
   "metadata": {},
   "source": [
    "#### ModelNameTokenizer Class \n",
    "This will load the model specific tokenizer from the specified checkpoint.\n",
    "\n",
    "   For Example,  `DistibertTokenizer`"
   ]
  },
  {
   "cell_type": "code",
   "execution_count": 3,
   "id": "642909e3-6053-4ad9-bafe-948d59a0bc5b",
   "metadata": {},
   "outputs": [],
   "source": [
    "from transformers import DistilBertTokenizer"
   ]
  },
  {
   "cell_type": "code",
   "execution_count": 8,
   "id": "1ec9787c-5830-48e2-9665-78bda7944a21",
   "metadata": {},
   "outputs": [],
   "source": [
    "distilbert_tokenizer = DistilBertTokenizer.from_pretrained('distilbert-base-uncased')"
   ]
  },
  {
   "cell_type": "code",
   "execution_count": 9,
   "id": "4833a7cb-0f40-45de-ada6-823af9126a17",
   "metadata": {},
   "outputs": [
    {
     "data": {
      "text/plain": [
       "{'input_ids': [101, 8318, 27605, 26379, 9910, 1053, 2475, 12031, 18827, 1024, 2265, 1997, 3997, 1012, 2204, 6599, 3930, 1998, 24501, 18622, 4765, 7785, 2836, 102], 'attention_mask': [1, 1, 1, 1, 1, 1, 1, 1, 1, 1, 1, 1, 1, 1, 1, 1, 1, 1, 1, 1, 1, 1, 1, 1]}"
      ]
     },
     "execution_count": 9,
     "metadata": {},
     "output_type": "execute_result"
    }
   ],
   "source": [
    "distilbert_tokenizer(data[0])"
   ]
  },
  {
   "cell_type": "markdown",
   "id": "8de606ab-ebd0-44cd-aa7b-501225629209",
   "metadata": {},
   "source": [
    "### Saving the Tokenizer"
   ]
  },
  {
   "cell_type": "code",
   "execution_count": 11,
   "id": "6fc9ed47-2dc9-40a6-ac46-28a7bf36696c",
   "metadata": {},
   "outputs": [
    {
     "data": {
      "text/plain": [
       "('./../../../hf_models/distilbert-base-uncased/tokenizer_config.json',\n",
       " './../../../hf_models/distilbert-base-uncased/special_tokens_map.json',\n",
       " './../../../hf_models/distilbert-base-uncased/vocab.txt',\n",
       " './../../../hf_models/distilbert-base-uncased/added_tokens.json')"
      ]
     },
     "execution_count": 11,
     "metadata": {},
     "output_type": "execute_result"
    }
   ],
   "source": [
    "distilbert_tokenizer.save_pretrained('./../../../hf_models/distilbert-base-uncased/')"
   ]
  },
  {
   "cell_type": "markdown",
   "id": "a529b6ea-5158-417d-9304-8ed4e9070ea5",
   "metadata": {},
   "source": [
    "## Tokenization Process"
   ]
  },
  {
   "cell_type": "markdown",
   "id": "5b02c18c-4f08-4c60-88b2-5e95168b2dc3",
   "metadata": {},
   "source": [
    "### Tokenization\n",
    "\n",
    "Breaking the input into tokens specific to the `vocab` of the checkpoint."
   ]
  },
  {
   "cell_type": "code",
   "execution_count": 14,
   "id": "4af68731-95bc-40e3-99c1-8add82dadc9a",
   "metadata": {},
   "outputs": [
    {
     "name": "stdout",
     "output_type": "stream",
     "text": [
      "['lt', '##imi', '##ndt', '##ree', 'q', '##2', '##fy', '##24', ':', 'show', 'of', 'strength', '.', 'good', 'revenue', 'growth', 'and', 'res', '##ili', '##ent', 'margin', 'performance']\n"
     ]
    }
   ],
   "source": [
    "tokens = distilbert_tokenizer.tokenize(data[0])\n",
    "print(tokens)"
   ]
  },
  {
   "cell_type": "markdown",
   "id": "10f00422-e98d-43cd-a42a-387f0de02339",
   "metadata": {},
   "source": [
    "### Encoding\n",
    "Mapping tokens to input IDs"
   ]
  },
  {
   "cell_type": "code",
   "execution_count": 17,
   "id": "28fc43b8-2529-42c2-9556-2781bcff5959",
   "metadata": {},
   "outputs": [
    {
     "name": "stdout",
     "output_type": "stream",
     "text": [
      "[8318, 27605, 26379, 9910, 1053, 2475, 12031, 18827, 1024, 2265, 1997, 3997, 1012, 2204, 6599, 3930, 1998, 24501, 18622, 4765, 7785, 2836]\n"
     ]
    }
   ],
   "source": [
    "ids = distilbert_tokenizer.convert_tokens_to_ids(tokens)\n",
    "print(ids)"
   ]
  },
  {
   "cell_type": "markdown",
   "id": "7018d280-54ad-4c27-94df-68a314bbe589",
   "metadata": {},
   "source": [
    "### Decoding\n",
    "Mapping input IDs back to tokens and grouping them back to the same words as in input text."
   ]
  },
  {
   "cell_type": "code",
   "execution_count": 19,
   "id": "6ee1016f-be63-4ced-b017-996a11c191e0",
   "metadata": {},
   "outputs": [
    {
     "name": "stdout",
     "output_type": "stream",
     "text": [
      "ltimindtree q2fy24 : show of strength. good revenue growth and resilient margin performance\n"
     ]
    }
   ],
   "source": [
    "print(distilbert_tokenizer.decode(ids))"
   ]
  },
  {
   "cell_type": "code",
   "execution_count": 20,
   "id": "03102091-c4c4-4f1a-86f4-f917b1049f5e",
   "metadata": {},
   "outputs": [
    {
     "name": "stdout",
     "output_type": "stream",
     "text": [
      "[CLS] ltimindtree q2fy24 : show of strength. good revenue growth and resilient margin performance [SEP]\n"
     ]
    }
   ],
   "source": [
    "print(distilbert_tokenizer.decode(distilbert_tokenizer(data[0])['input_ids']))"
   ]
  },
  {
   "cell_type": "code",
   "execution_count": null,
   "id": "87154a0d-1a00-41cd-b89a-d70bc51d95cd",
   "metadata": {},
   "outputs": [],
   "source": []
  }
 ],
 "metadata": {
  "kernelspec": {
   "display_name": "Python 3 (ipykernel)",
   "language": "python",
   "name": "python3"
  },
  "language_info": {
   "codemirror_mode": {
    "name": "ipython",
    "version": 3
   },
   "file_extension": ".py",
   "mimetype": "text/x-python",
   "name": "python",
   "nbconvert_exporter": "python",
   "pygments_lexer": "ipython3",
   "version": "3.10.12"
  }
 },
 "nbformat": 4,
 "nbformat_minor": 5
}
